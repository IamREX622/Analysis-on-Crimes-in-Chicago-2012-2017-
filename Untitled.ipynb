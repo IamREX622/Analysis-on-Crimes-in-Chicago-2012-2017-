{
 "cells": [
  {
   "cell_type": "markdown",
   "id": "8cf918e9",
   "metadata": {},
   "source": [
    "### NAME :- ROHAN KUMAR\n",
    "### REGISTRATION No. :- 12016504\n",
    "### SECTION :- K20KT\n",
    "### ROLL No. :- RK20KTB59"
   ]
  },
  {
   "cell_type": "markdown",
   "id": "61e23792",
   "metadata": {},
   "source": [
    "## CRIMES IN CHICAGO 2012-2017"
   ]
  },
  {
   "cell_type": "markdown",
   "id": "3f8d5eca",
   "metadata": {},
   "source": [
    "#### CONTEXT\n",
    "\n",
    "This dataset reflects reported incidents of crime (with the exception of murders where data exists for each victim) that occurred in the City of Chicago from 2012 to 2017. Data is extracted from the Chicago Police Department's CLEAR (Citizen Law Enforcement Analysis and Reporting) system. In order to protect the privacy of crime victims, addresses are shown at the block level only and specific locations are not identified.\n",
    "\n",
    "Disclaimer: These crimes may be based upon preliminary information supplied to the Police Department by the reporting parties that have not been verified. The preliminary crime classifications may be changed at a later date based upon additional investigation and there is always the possibility of mechanical or human error. Therefore, the Chicago Police Department does not guarantee (either expressed or implied) the accuracy, completeness, timeliness, or correct sequencing of the information and the information should not be used for comparison purposes over time. The Chicago Police Department will not be responsible for any error or omission, or for the use of, or the results obtained from the use of this information. All data visualizations on maps should be considered approximate and attempts to derive specific addresses are strictly prohibited.\n",
    "The Chicago Police Department is not responsible for the content of any off-site pages that are referenced by or that reference this web page other than an official City of Chicago or Chicago Police Department web page. The user specifically acknowledges that the Chicago Police Department is not responsible for any defamatory, offensive, misleading, or illegal conduct of other users, links, or third parties and that the risk of injury from the foregoing rests entirely with the user. The unauthorized use of the words \"Chicago Police Department,\" \"Chicago Police,\" or any colorable imitation of these words or the unauthorized use of the Chicago Police Department logo is unlawful. This web page does not, in any way, authorize such use. Data are updated daily. The dataset contains more than 10,00,000 records/rows of data and cannot be viewed in full in Microsoft Excel. To access a list of Chicago Police Department - Illinois Uniform Crime Reporting (IUCR) codes, go to http://data.cityofchicago.org/Public-Safety/Chicago-Police-Department-Illinois-Uniform-Crime-R/c7ck-438e"
   ]
  },
  {
   "cell_type": "markdown",
   "id": "df621b74",
   "metadata": {},
   "source": [
    "#### CONTENT\n",
    "\n",
    "ID           - Unique identifier for the record.\n",
    "\n",
    "Case Number  - The Chicago Police Department RD Number (Records Division Number), which is unique to the incident.\n",
    "\n",
    "Date         - Date when the incident occurred. this is sometimes a best estimate.\n",
    "\n",
    "Block        - The partially redacted address where the incident occurred, placing it on the same block as the actual address.\n",
    "\n",
    "IUCR         - The Illinois Unifrom Crime Reporting code. This is directly linked to the Primary Type and Description. See the                  list of IUCR codes at https://data.cityofchicago.org/d/c7ck-438e.\n",
    "\n",
    "Primary Type - The primary description of the IUCR code.\n",
    "\n",
    "Description  - The secondary description of the IUCR code, a subcategory of the primary description.\n",
    "\n",
    "Location Description - Description of the location where the incident occurred.\n",
    "\n",
    "Arrest - Indicates whether an arrest was made.\n",
    "\n",
    "Domestic - Indicates whether the incident was domestic-related as defined by the Illinois Domestic Violence Act.\n",
    "\n",
    "Beat - Indicates the beat where the incident occurred. A beat is the smallest police geographic area – each beat has a dedicated police beat car. Three to five beats make up a police sector, and three sectors make up a police district. The Chicago Police Department has 22 police districts. See the beats at https://data.cityofchicago.org/d/aerh-rz74.\n",
    "\n",
    "District - Indicates the police district where the incident occurred. See the districts at https://data.cityofchicago.org/d/fthy-xz3r.\n",
    "\n",
    "Ward - The ward (City Council district) where the incident occurred. See the wards at https://data.cityofchicago.org/d/sp34-6z76.\n",
    "\n",
    "Community Area - Indicates the community area where the incident occurred. Chicago has 77 community areas. See the community areas at https://data.cityofchicago.org/d/cauq-8yn6.\n",
    "\n",
    "FBI Code - Indicates the crime classification as outlined in the FBI's National Incident-Based Reporting System (NIBRS). See the Chicago Police Department listing of these classifications at http://gis.chicagopolice.org/clearmap_crime_sums/crime_types.html.\n",
    "\n",
    "X Coordinate - The x coordinate of the location where the incident occurred in State Plane Illinois East NAD 1983 projection. This location is shifted from the actual location for partial redaction but falls on the same block.\n",
    "\n",
    "Y Coordinate - The y coordinate of the location where the incident occurred in State Plane Illinois East NAD 1983 projection. This location is shifted from the actual location for partial redaction but falls on the same block.\n",
    "\n",
    "Year - Year the incident occurred.\n",
    "\n",
    "Updated On - Date and time the record was last updated.\n",
    "\n",
    "Latitude - The latitude of the location where the incident occurred. This location is shifted from the actual location for partial redaction but falls on the same block.\n",
    "\n",
    "Longitude - The longitude of the location where the incident occurred. This location is shifted from the actual location for partial redaction but falls on the same block.\n",
    "\n",
    "Location - The location where the incident occurred in a format that allows for creation of maps and other geographic operations on this data portal. This location is shifted from the actual location for partial redaction but falls on the same block."
   ]
  },
  {
   "cell_type": "markdown",
   "id": "a098788d",
   "metadata": {},
   "source": [
    "#### IMPORTING LIBRARIES"
   ]
  },
  {
   "cell_type": "code",
   "execution_count": null,
   "id": "40d0c4cd",
   "metadata": {},
   "outputs": [],
   "source": [
    "import pandas as pd\n",
    "import numpy as np\n",
    "import seaborn as sns\n",
    "import matplotlib.pyplot as plt\n",
    "import matplotlib.ticker as mtick\n",
    "from matplotlib.pyplot import figure\n",
    "import plotly.graph_objects as go\n",
    "import plotly.offline as py\n",
    "import plotly.express as px\n",
    "from datetime import datetime\n",
    "\n",
    "import warnings\n",
    "warnings.filterwarnings('ignore')"
   ]
  },
  {
   "cell_type": "markdown",
   "id": "a17d719f",
   "metadata": {},
   "source": [
    "#### IMPORTING DATASET"
   ]
  },
  {
   "cell_type": "code",
   "execution_count": null,
   "id": "d06677e1",
   "metadata": {},
   "outputs": [],
   "source": [
    "crime_df = pd.read_csv('Chicago_Crimes_2012_to_2017.csv')"
   ]
  },
  {
   "cell_type": "markdown",
   "id": "d5ca3e83",
   "metadata": {},
   "source": [
    "## DATA CLEANING"
   ]
  },
  {
   "cell_type": "code",
   "execution_count": null,
   "id": "9b742445",
   "metadata": {},
   "outputs": [],
   "source": [
    "crime_df.head()"
   ]
  },
  {
   "cell_type": "code",
   "execution_count": null,
   "id": "eef87780",
   "metadata": {},
   "outputs": [],
   "source": [
    "crime_df.tail()"
   ]
  },
  {
   "cell_type": "code",
   "execution_count": null,
   "id": "c747691f",
   "metadata": {},
   "outputs": [],
   "source": [
    "crime_df.shape"
   ]
  },
  {
   "cell_type": "markdown",
   "id": "211e5705",
   "metadata": {},
   "source": [
    "#### My dataset consists of 1456714 ROWS and 23 COLUMNS"
   ]
  },
  {
   "cell_type": "code",
   "execution_count": null,
   "id": "2c22c988",
   "metadata": {},
   "outputs": [],
   "source": [
    "crime_df.info()"
   ]
  },
  {
   "cell_type": "markdown",
   "id": "fa4d0d82",
   "metadata": {},
   "source": [
    "#### It consist of 4 columns of data type INT64, 10 columns of data type OBJECT, 7 columns of FLOAT64, and 2 columns of BOOL"
   ]
  },
  {
   "cell_type": "markdown",
   "id": "a95236aa",
   "metadata": {},
   "source": [
    "#### DELETING THE UNNAMED COLUMN"
   ]
  },
  {
   "cell_type": "code",
   "execution_count": null,
   "id": "5aefc83f",
   "metadata": {},
   "outputs": [],
   "source": [
    "crime_df.columns.str.match(\"Unnamed\")"
   ]
  },
  {
   "cell_type": "code",
   "execution_count": null,
   "id": "82556862",
   "metadata": {},
   "outputs": [],
   "source": [
    "crime_df.loc[:,~crime_df.columns.str.match(\"Unnamed\")]"
   ]
  },
  {
   "cell_type": "code",
   "execution_count": null,
   "id": "26734602",
   "metadata": {},
   "outputs": [],
   "source": [
    "crime_df.drop(\"Unnamed: 0\",axis=1)"
   ]
  },
  {
   "cell_type": "markdown",
   "id": "28b509c4",
   "metadata": {},
   "source": [
    "### Missing Value Analysis"
   ]
  },
  {
   "cell_type": "code",
   "execution_count": null,
   "id": "e0d7adf2",
   "metadata": {
    "scrolled": false
   },
   "outputs": [],
   "source": [
    "missing_values = crime_df.isnull().sum().sort_values(ascending = False)\n",
    "missing_values"
   ]
  },
  {
   "cell_type": "code",
   "execution_count": null,
   "id": "2be05e97",
   "metadata": {},
   "outputs": [],
   "source": [
    "percentage_missing_values = (crime_df.isnull().sum() * 100 / len(crime_df)).round(2).sort_values(ascending = False)\n",
    "percentage_missing_values"
   ]
  },
  {
   "cell_type": "code",
   "execution_count": null,
   "id": "513874a3",
   "metadata": {},
   "outputs": [],
   "source": [
    "missing_data = pd.concat([missing_values, percentage_missing_values], axis = 1, keys = ['Total', 'Percent'])\n",
    "missing_data"
   ]
  },
  {
   "cell_type": "code",
   "execution_count": null,
   "id": "df8e525f",
   "metadata": {
    "scrolled": false
   },
   "outputs": [],
   "source": [
    "f, ax = plt.subplots(figsize = (15, 5))\n",
    "plt.xticks(font = \"Times new roman\", fontsize = 15, rotation = '45')\n",
    "cplot = sns.barplot(x = missing_data.index, y = missing_data['Percent'], palette = 'GnBu_r', lw = 2, ec = 'Black')\n",
    "cplot.set_title('Missing Value Inspection', font = 'Algerian', fontsize = 25, weight = 'bold')\n",
    "cplot.set_ylabel('Count', font = 'Algerian', fontsize = 20)\n",
    "cplot.set_xlabel('Features', font = 'Algerian', fontsize = 20);"
   ]
  },
  {
   "cell_type": "markdown",
   "id": "2170d173",
   "metadata": {},
   "source": [
    "### Duplicate Values Analysis (In progress)"
   ]
  },
  {
   "cell_type": "code",
   "execution_count": null,
   "id": "a9824b3f",
   "metadata": {},
   "outputs": [],
   "source": [
    "#if (len(crime_df[crime_df.duplicated()]) > 0):\n",
    "#    print('No. of duplicated entries: ', len(crime_df[crime_df.duplicated()]))\n",
    "#    print(crime_df[crime_df.duplicated(keep = False)].sort_values(by = list(crime_df.columns)).head())\n",
    "#else:\n",
    "#    print('No duplicated entries found.')"
   ]
  },
  {
   "cell_type": "code",
   "execution_count": null,
   "id": "73efa837",
   "metadata": {},
   "outputs": [],
   "source": [
    "crime_df.nunique().to_frame(name = 'Unique Values')"
   ]
  },
  {
   "cell_type": "markdown",
   "id": "5d98b86e",
   "metadata": {},
   "source": [
    "#### Here we can see that there are 1456598 Unique Case Numbers and as we know that our dataset consists of 1456714 rows in total. That means there are 116 duplicate values in column 'Case Number'."
   ]
  },
  {
   "cell_type": "markdown",
   "id": "342bb257",
   "metadata": {},
   "source": [
    "### Checking whether all the data in the row of those duplicate values of column \"Case Number\" are same or not."
   ]
  },
  {
   "cell_type": "code",
   "execution_count": null,
   "id": "e6531e5f",
   "metadata": {
    "scrolled": false
   },
   "outputs": [],
   "source": [
    "crime_df['Case Number'].value_counts()"
   ]
  },
  {
   "cell_type": "code",
   "execution_count": null,
   "id": "5d7ea665",
   "metadata": {
    "scrolled": false
   },
   "outputs": [],
   "source": [
    "crime_df.loc[crime_df['Case Number'] == 'HZ140230']"
   ]
  },
  {
   "cell_type": "code",
   "execution_count": null,
   "id": "f2005b46",
   "metadata": {},
   "outputs": [],
   "source": [
    "crime_df.loc[crime_df['Case Number'] == 'HZ554936']"
   ]
  },
  {
   "cell_type": "code",
   "execution_count": null,
   "id": "7849f19c",
   "metadata": {},
   "outputs": [],
   "source": [
    "crime_df.loc[crime_df['Case Number'] == 'HY346207']"
   ]
  },
  {
   "cell_type": "code",
   "execution_count": null,
   "id": "9367adbb",
   "metadata": {},
   "outputs": [],
   "source": [
    "crime_df.loc[crime_df['Case Number'] == 'HZ403466']"
   ]
  },
  {
   "cell_type": "code",
   "execution_count": null,
   "id": "00333a71",
   "metadata": {},
   "outputs": [],
   "source": [
    "crime_df.loc[crime_df['Case Number'] == 'HV217424']"
   ]
  },
  {
   "cell_type": "markdown",
   "id": "36ab7c0e",
   "metadata": {},
   "source": [
    "#### From above analysis we can say that, Yes all the data in rows are same .\n",
    "#### That means now we can delete these rows."
   ]
  },
  {
   "cell_type": "markdown",
   "id": "d9f39368",
   "metadata": {},
   "source": [
    "## Deleting the duplicate rows"
   ]
  },
  {
   "cell_type": "code",
   "execution_count": null,
   "id": "2bebe983",
   "metadata": {
    "scrolled": false
   },
   "outputs": [],
   "source": [
    "crime_df.drop_duplicates(subset='Case Number', keep=\"first\")"
   ]
  },
  {
   "cell_type": "code",
   "execution_count": null,
   "id": "a099468c",
   "metadata": {},
   "outputs": [],
   "source": []
  },
  {
   "cell_type": "code",
   "execution_count": null,
   "id": "354b81ce",
   "metadata": {},
   "outputs": [],
   "source": []
  }
 ],
 "metadata": {
  "kernelspec": {
   "display_name": "Python 3 (ipykernel)",
   "language": "python",
   "name": "python3"
  },
  "language_info": {
   "codemirror_mode": {
    "name": "ipython",
    "version": 3
   },
   "file_extension": ".py",
   "mimetype": "text/x-python",
   "name": "python",
   "nbconvert_exporter": "python",
   "pygments_lexer": "ipython3",
   "version": "3.9.7"
  }
 },
 "nbformat": 4,
 "nbformat_minor": 5
}
